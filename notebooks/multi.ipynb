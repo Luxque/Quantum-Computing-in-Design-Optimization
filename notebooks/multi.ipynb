{
 "cells": [
  {
   "cell_type": "markdown",
   "metadata": {},
   "source": [
    "# Multi Qubit Systems\n",
    "\n"
   ]
  },
  {
   "cell_type": "markdown",
   "metadata": {},
   "source": [
    "## Qubits on Stack\n",
    "\n",
    "We have seen that $\\ket{0} = \\begin{bmatrix} 1 \\\\ 0 \\end{bmatrix}$ and $\\ket{1} = \\begin{bmatrix} 0 \\\\ 1 \\end{bmatrix}$.\n",
    "What happens if we expend this idea to multiple qubits?\n",
    "We can describe multi qubit systems using tensor products ($\\otimes$).\n",
    "$$\n",
    "\\begin{align*}\n",
    "    \\begin{bmatrix} a_1 \\\\ a_2 \\\\ \\vdots \\\\ a_n \\end{bmatrix} \\otimes \\begin{bmatrix} b_1 \\\\ b_2 \\\\ \\vdots \\\\ b_m \\end{bmatrix} &= \\begin{bmatrix} a_1 \\begin{bmatrix} b_1 \\\\ b_2 \\\\ \\vdots \\\\ b_m \\end{bmatrix} \\\\ a_2 \\begin{bmatrix} b_1 \\\\ b_2 \\\\ \\vdots \\\\ b_m \\end{bmatrix} \\\\ \\vdots \\\\ a_n \\begin{bmatrix} b_1 \\\\ b_2 \\\\ \\vdots \\\\ b_m \\end{bmatrix} \\end{bmatrix} \\\\\n",
    "    &= \\begin{bmatrix} a_1b_1 \\\\ a_1b_2 \\\\ \\vdots \\\\ a_1b_m \\\\ a_2b_1 \\\\ a_2b_2 \\\\ \\vdots \\\\ a_2b_m \\\\ \\vdots \\\\ a_nb_1 \\\\ a_nb_2 \\\\ \\vdots \\\\ a_nb_m \\end{bmatrix}\n",
    "\\end{align*}\n",
    "$$"
   ]
  },
  {
   "cell_type": "code",
   "execution_count": 3,
   "metadata": {},
   "outputs": [
    {
     "data": {
      "image/png": "[encoded data removed]",
      "text/plain": [
       "<Figure size 161.878x200.667 with 1 Axes>"
      ]
     },
     "execution_count": 3,
     "metadata": {},
     "output_type": "execute_result"
    }
   ],
   "source": [
    "from qiskit import QuantumCircuit\n",
    "\n",
    "qc = QuantumCircuit(2)\n",
    "qc.draw('mpl')"
   ]
  },
  {
   "cell_type": "markdown",
   "metadata": {},
   "source": [
    "As you can see above, we cann see that we are using two qubits on this quantum circuit.\n",
    "By using tensor product, we can describe the state of multiple qubits at once.\n",
    "$$\n",
    "\\begin{align*}\n",
    "    \\ket{0} \\otimes \\ket{0} &= \\begin{bmatrix} 1 \\\\ 0 \\end{bmatrix} \\otimes \\begin{bmatrix} 1 \\\\ 0 \\end{bmatrix} = \\begin{bmatrix} 1 \\begin{bmatrix} 1 \\\\ 0 \\end{bmatrix} \\\\ 0 \\begin{bmatrix} 1 \\\\ 0 \\end{bmatrix} \\end{bmatrix} = \\begin{bmatrix} 1 \\\\ 0 \\\\ 0 \\\\ 0 \\end{bmatrix} = \\ket{00} \\\\\n",
    "    \\ket{0} \\otimes \\ket{1} &= \\begin{bmatrix} 1 \\\\ 0 \\end{bmatrix} \\otimes \\begin{bmatrix} 0 \\\\ 1 \\end{bmatrix} = \\begin{bmatrix} 1 \\begin{bmatrix} 0 \\\\ 1 \\end{bmatrix} \\\\ 0 \\begin{bmatrix} 0 \\\\ 1 \\end{bmatrix} \\end{bmatrix} = \\begin{bmatrix} 0 \\\\ 1 \\\\ 0 \\\\ 0 \\end{bmatrix} = \\ket{01} \\\\\n",
    "    \\ket{1} \\otimes \\ket{0} &= \\begin{bmatrix} 0 \\\\ 1 \\end{bmatrix} \\otimes \\begin{bmatrix} 1 \\\\ 0 \\end{bmatrix} = \\begin{bmatrix} 0 \\begin{bmatrix} 1 \\\\ 0 \\end{bmatrix} \\\\ 1 \\begin{bmatrix} 1 \\\\ 0 \\end{bmatrix} \\end{bmatrix} = \\begin{bmatrix} 0 \\\\ 0 \\\\ 1 \\\\ 0 \\end{bmatrix} = \\ket{10} \\\\\n",
    "    \\ket{1} \\otimes \\ket{1} &= \\begin{bmatrix} 0 \\\\ 1 \\end{bmatrix} \\otimes \\begin{bmatrix} 0 \\\\ 1 \\end{bmatrix} = \\begin{bmatrix} 0 \\begin{bmatrix} 0 \\\\ 1 \\end{bmatrix} \\\\ 1 \\begin{bmatrix} 0 \\\\ 1 \\end{bmatrix} \\end{bmatrix} = \\begin{bmatrix} 0 \\\\ 0 \\\\ 0 \\\\ 1 \\end{bmatrix} = \\ket{11}\n",
    "\\end{align*}\n",
    "$$\n",
    "How about a three qubit system?\n",
    "We can append a new qubit by using "
   ]
  },
  {
   "cell_type": "markdown",
   "metadata": {},
   "source": [
    "## Gates on Stack"
   ]
  },
  {
   "cell_type": "markdown",
   "metadata": {},
   "source": [
    "## No-Cloning Theorem"
   ]
  },
  {
   "cell_type": "markdown",
   "metadata": {},
   "source": [
    "## Entanglement"
   ]
  },
  {
   "cell_type": "markdown",
   "metadata": {},
   "source": [
    "## References\n",
    "\n",
    "* A Practical guide to Quantum Machine Learning and Quantum Optimization.\n",
    "* Quantum Machine Learning and Optimization in Finance."
   ]
  }
 ],
 "metadata": {
  "kernelspec": {
   "display_name": "venv",
   "language": "python",
   "name": "python3"
  },
  "language_info": {
   "codemirror_mode": {
    "name": "ipython",
    "version": 3
   },
   "file_extension": ".py",
   "mimetype": "text/x-python",
   "name": "python",
   "nbconvert_exporter": "python",
   "pygments_lexer": "ipython3",
   "version": "3.12.6"
  }
 },
 "nbformat": 4,
 "nbformat_minor": 2
}
