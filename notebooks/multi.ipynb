{
 "cells": [
  {
   "cell_type": "markdown",
   "metadata": {},
   "source": [
    "# Multi Qubit Systems\n",
    "\n"
   ]
  },
  {
   "cell_type": "code",
   "execution_count": null,
   "metadata": {},
   "outputs": [],
   "source": [
    "from qiskit import QuantumCircuit"
   ]
  },
  {
   "cell_type": "markdown",
   "metadata": {},
   "source": [
    "## Qubits on Stack\n",
    "\n",
    "We have seen that $\\ket{0} = \\begin{bmatrix} 1 \\\\ 0 \\end{bmatrix}$ and $\\ket{1} = \\begin{bmatrix} 0 \\\\ 1 \\end{bmatrix}$.\n",
    "What happens if we expend this idea to multiple qubits?\n",
    "We can describe multi qubit systems using tensor products ($\\otimes$).\n",
    "$$\n",
    "\\begin{align*}\n",
    "    \\begin{bmatrix} a_1 \\\\ a_2 \\\\ \\vdots \\\\ a_n \\end{bmatrix} \\otimes \\begin{bmatrix} b_1 \\\\ b_2 \\\\ \\vdots \\\\ b_m \\end{bmatrix} &= \\begin{bmatrix} a_1 \\begin{bmatrix} b_1 \\\\ b_2 \\\\ \\vdots \\\\ b_m \\end{bmatrix} \\\\ a_2 \\begin{bmatrix} b_1 \\\\ b_2 \\\\ \\vdots \\\\ b_m \\end{bmatrix} \\\\ \\vdots \\\\ a_n \\begin{bmatrix} b_1 \\\\ b_2 \\\\ \\vdots \\\\ b_m \\end{bmatrix} \\end{bmatrix} = \\begin{bmatrix} a_1b_1 \\\\ a_1b_2 \\\\ \\vdots \\\\ a_1b_m \\\\ a_2b_1 \\\\ a_2b_2 \\\\ \\vdots \\\\ a_2b_m \\\\ \\vdots \\\\ a_nb_1 \\\\ a_nb_2 \\\\ \\vdots \\\\ a_nb_m \\end{bmatrix}\n",
    "\\end{align*}\n",
    "$$"
   ]
  },
  {
   "cell_type": "code",
   "execution_count": null,
   "metadata": {},
   "outputs": [],
   "source": [
    "qc = QuantumCircuit(2)\n",
    "qc.draw('mpl')"
   ]
  },
  {
   "cell_type": "markdown",
   "metadata": {},
   "source": [
    "As you can see above, we cann see that we are using two qubits on this quantum circuit.\n",
    "By using tensor product, we can describe the state of multiple qubits at once.\n",
    "$$\n",
    "\\begin{align*}\n",
    "    \\ket{0} \\otimes \\ket{0} &= \\begin{bmatrix} 1 \\\\ 0 \\end{bmatrix} \\otimes \\begin{bmatrix} 1 \\\\ 0 \\end{bmatrix} = \\begin{bmatrix} 1 \\begin{bmatrix} 1 \\\\ 0 \\end{bmatrix} \\\\ 0 \\begin{bmatrix} 1 \\\\ 0 \\end{bmatrix} \\end{bmatrix} = \\begin{bmatrix} 1 \\\\ 0 \\\\ 0 \\\\ 0 \\end{bmatrix} = \\ket{00} \\\\\n",
    "    \\ket{0} \\otimes \\ket{1} &= \\begin{bmatrix} 1 \\\\ 0 \\end{bmatrix} \\otimes \\begin{bmatrix} 0 \\\\ 1 \\end{bmatrix} = \\begin{bmatrix} 1 \\begin{bmatrix} 0 \\\\ 1 \\end{bmatrix} \\\\ 0 \\begin{bmatrix} 0 \\\\ 1 \\end{bmatrix} \\end{bmatrix} = \\begin{bmatrix} 0 \\\\ 1 \\\\ 0 \\\\ 0 \\end{bmatrix} = \\ket{01} \\\\\n",
    "    \\ket{1} \\otimes \\ket{0} &= \\begin{bmatrix} 0 \\\\ 1 \\end{bmatrix} \\otimes \\begin{bmatrix} 1 \\\\ 0 \\end{bmatrix} = \\begin{bmatrix} 0 \\begin{bmatrix} 1 \\\\ 0 \\end{bmatrix} \\\\ 1 \\begin{bmatrix} 1 \\\\ 0 \\end{bmatrix} \\end{bmatrix} = \\begin{bmatrix} 0 \\\\ 0 \\\\ 1 \\\\ 0 \\end{bmatrix} = \\ket{10} \\\\\n",
    "    \\ket{1} \\otimes \\ket{1} &= \\begin{bmatrix} 0 \\\\ 1 \\end{bmatrix} \\otimes \\begin{bmatrix} 0 \\\\ 1 \\end{bmatrix} = \\begin{bmatrix} 0 \\begin{bmatrix} 0 \\\\ 1 \\end{bmatrix} \\\\ 1 \\begin{bmatrix} 0 \\\\ 1 \\end{bmatrix} \\end{bmatrix} = \\begin{bmatrix} 0 \\\\ 0 \\\\ 0 \\\\ 1 \\end{bmatrix} = \\ket{11}\n",
    "\\end{align*}\n",
    "$$\n",
    "How about a three qubit system?\n",
    "$$\n",
    "\\begin{align*}\n",
    "    \\ket{00} \\otimes \\ket{0} &= \\ket{000} \\\\\n",
    "    \\ket{00} \\otimes \\ket{1} &= \\ket{001} \\\\\n",
    "    \\ket{01} \\otimes \\ket{0} &= \\ket{010} \\\\\n",
    "    \\ket{01} \\otimes \\ket{1} &= \\ket{011} \\\\\n",
    "    \\ket{10} \\otimes \\ket{0} &= \\ket{100} \\\\\n",
    "    \\ket{10} \\otimes \\ket{1} &= \\ket{101} \\\\\n",
    "    \\ket{11} \\otimes \\ket{0} &= \\ket{110} \\\\\n",
    "    \\ket{11} \\otimes \\ket{1} &= \\ket{111}\n",
    "\\end{align*}\n",
    "$$\n",
    "We can observe two important patterns here:\n",
    "1. We can always append a new qubit using tensor product, and\n",
    "2. If you want to know how $\\ket{n}$ in a matrix form, the $n+1$-th entry is $1$, and the other entries are $0$.\n",
    "\n",
    "It should naturally follow that quantum gates on the multiple qubit system should use tensor products."
   ]
  },
  {
   "cell_type": "markdown",
   "metadata": {},
   "source": [
    "## Gates on Stack\n",
    "\n",
    "Tensor products on metrices work very similarly.\n",
    "$$\n",
    "\\begin{align*}\n",
    "    \\begin{bmatrix} a_{11} & a_{12} \\\\ a_{21} & a_{22} \\end{bmatrix} \\otimes \\begin{bmatrix} b_{11} & b_{12} \\\\ b_{21} & b_{22} \\end{bmatrix} &= \\begin{bmatrix} a_{11} \\begin{bmatrix} b_{11} & b_{12} \\\\ b_{21} & b_{22} \\end{bmatrix} & a_{12} \\begin{bmatrix} b_{11} & b_{12} \\\\ b_{21} & b_{22} \\end{bmatrix} \\\\ a_{21} \\begin{bmatrix} b_{11} & b_{12} \\\\ b_{21} & b_{22} \\end{bmatrix} & a_{22} \\begin{bmatrix} b_{11} & b_{12} \\\\ b_{21} & b_{22} \\end{bmatrix} \\end{bmatrix} = \n",
    "    \\begin{bmatrix} \n",
    "        a_{11}b_{11} & a_{11}b_{12} & a_{12}b_{11} & a_{12}b_{12} \\\\ \n",
    "        a_{11}b_{21} & a_{11}b_{22} & a_{12}b_{21} & a_{12}b_{22} \\\\\n",
    "        a_{21}b_{11} & a_{21}b_{12} & a_{22}b_{11} & a_{22}b_{12} \\\\\n",
    "        a_{21}b_{21} & a_{21}b_{22} & a_{22}b_{21} & a_{22}b_{22}\n",
    "    \\end{bmatrix}\n",
    "\\end{align*}\n",
    "$$\n",
    "Note that a new created by a tensor product of two unitary metrices is also unitary, so $(U_1 \\otimes U_2)^{-1} = U_1^\\dagger \\otimes U_2^\\dagger$ and $(U_1 \\otimes U_2)^\\dagger = U_1^\\dagger \\otimes U_2^\\dagger$ hold."
   ]
  },
  {
   "cell_type": "code",
   "execution_count": null,
   "metadata": {},
   "outputs": [],
   "source": [
    "qc = QuantumCircuit(2)\n",
    "qc.x(0)\n",
    "qc.x(1)\n",
    "qc.h(0)\n",
    "qc.draw('mpl')"
   ]
  },
  {
   "cell_type": "markdown",
   "metadata": {},
   "source": [
    "Now, let us find the matrix form of the circiut above.\n",
    "$$\n",
    "\\begin{align*}\n",
    "    X \\otimes X &= \\begin{bmatrix} 0 & 1 \\\\ 1 & 0 \\end{bmatrix} \\otimes \\begin{bmatrix} 0 & 1 \\\\ 1 & 0 \\end{bmatrix} \\\\\n",
    "    &= \n",
    "    \\begin{bmatrix} \n",
    "        0 & 0 & 0 & 1 \\\\\n",
    "        0 & 0 & 1 & 0 \\\\\n",
    "        0 & 1 & 0 & 0 \\\\\n",
    "        1 & 0 & 0 & 0\n",
    "    \\end{bmatrix} \\\\\n",
    "    H \\otimes I &= \\frac{1}{\\sqrt{2}} \\begin{bmatrix} 1 & 1 \\\\ 1 & -1 \\end{bmatrix} \\otimes \\begin{bmatrix} 1 & 0 \\\\ 0 & 1 \\end{bmatrix} \\\\\n",
    "    &= \\frac{1}{\\sqrt{2}}\n",
    "    \\begin{bmatrix}\n",
    "        1 & 0 & 1 & 0 \\\\\n",
    "        0 & 1 & 0 & 1 \\\\\n",
    "        1 & 0 & -1 & 0 \\\\\n",
    "        0 & 1 & 0 & -1\n",
    "    \\end{bmatrix} \\\\\n",
    "    (H \\otimes I)(X \\otimes X) &= \\frac{1}{\\sqrt{2}} \\begin{bmatrix} 1 & 0 & 1 & 0 \\\\ 0 & 1 & 0 & 1 \\\\ 1 & 0 & -1 & 0 \\\\ 0 & 1 & 0 & -1 \\end{bmatrix} \\begin{bmatrix} 0 & 0 & 0 & 1 \\\\ 0 & 0 & 1 & 0 \\\\ 0 & 1 & 0 & 0 \\\\  1 & 0 & 0 & 0 \\end{bmatrix} \\\\\n",
    "    &= \\frac{1}{\\sqrt{2}}\n",
    "    \\begin{bmatrix}\n",
    "        0 & 1 & 0 & 1 \\\\\n",
    "        1 & 0 & 1 & 0 \\\\\n",
    "        0 & -1 & 0 & 1 \\\\\n",
    "        -1 & 0 & 1 & 0\n",
    "    \\end{bmatrix}\n",
    "\\end{align*}\n",
    "$$\n",
    "To compute the overall state after this gate, we just need to compute $\\ket{\\psi_f} = (H \\otimes I)(X \\otimes X)\\ket{\\psi_i}$.\n",
    "What would we get by passing $\\ket{0}$ to this gate?\n",
    "We are applying NOT gates on both qubits and then a Hadamard gate on the first qubit.\n",
    "By direct manipulation, we expect to get $\\ket{\\psi_f} = \\ket{-} \\otimes \\ket{1} = (\\frac{1}{\\sqrt{2}}\\ket{0} - \\frac{1}{\\sqrt{2}}\\ket{1}) \\otimes \\ket{1} = \\frac{1}{\\sqrt{2}}\\ket{01} - \\frac{1}{\\sqrt{2}}\\ket{11}$.\n",
    "Let us verify this using matrix multiplication:\n",
    "$$\n",
    "\\begin{align*}\n",
    "    \\ket{\\psi_f} &= (H \\otimes I)(X \\otimes X)\\ket{0} \\\\\n",
    "    &= \\frac{1}{\\sqrt{2}} \\begin{bmatrix} 0 & 1 & 0 & 1 \\\\ 1 & 0 & 1 & 0 \\\\ 0 & -1 & 0 & 1 \\\\ -1 & 0 & 1 & 0 \\end{bmatrix} \\begin{bmatrix} 1 \\\\ 0 \\\\ 0 \\\\ 0 \\end{bmatrix} \\\\\n",
    "    &= \\frac{1}{\\sqrt{2}} \\begin{bmatrix} 0 \\\\ 1 \\\\ 0 \\\\ -1 \\end{bmatrix} \\\\\n",
    "    &= \\frac{1}{\\sqrt{2}} \\left(\\begin{bmatrix} 0 \\\\ 1 \\\\ 0 \\\\ 0 \\end{bmatrix} - \\begin{bmatrix} 0 \\\\ 0 \\\\ 0 \\\\ 1 \\end{bmatrix}\\right) \\\\\n",
    "    &= \\frac{1}{\\sqrt{2}} (\\ket{01} - \\ket{11}) \\\\\n",
    "    &= \\frac{1}{\\sqrt{2}}\\ket{01} - \\frac{1}{\\sqrt{2}}\\ket{11} \\text{.}\n",
    "\\end{align*}\n",
    "$$\n",
    "We got the anticipated result.\n",
    "\n",
    "Please note that to be a valid quantum state, no matter it is a single-qubit or multi-qubit system, the probability must add up to $1$: $\\sum_{i=0}^{2^n-1} |a_i|^2 = 1$."
   ]
  },
  {
   "cell_type": "markdown",
   "metadata": {},
   "source": [
    "### Complexity\n",
    "\n",
    "We can quickly demonstrate the fact that as we append one qubit at the time, the vectors and the metrices we have to manipulate grow exponentially.\n",
    "Here, vectors that represents the qubit state grow in a rate of $O(2^n)$ ($2^n$ entries), and matrices that represents the quantum gates grow in a rate of $O(2^{2n})$ ($2^n \\times 2^n$ matrix).\n",
    "Suppose we are using `float` data type (4 bytes) to represent a number.\n",
    "Since the probability amplitudes are complex, we must use 8 bytes (4 bytes for the real part and 4 bytes for the imaginary part) to represent a single entry in a quantum gate matrix.\n",
    "To simulate a 5-qubit system, we can prepare a memory device with $8 \\times 2^{2(5)} = 8192$ bytes, but to simulate a 50-qubit system, we must have at least $8 \\times 2^{2(50)} \\approx 1.014 \\times 10^{31}$ bytes.\n",
    "This is why it is so hard to simulate quantum computing in a classical computer."
   ]
  },
  {
   "cell_type": "markdown",
   "metadata": {},
   "source": [
    "### CNOT Gate\n",
    "\n",
    "A CNOT gate has two parts: control and target.\n",
    "If we put a CNOT gate in a way that qubit $a$ is the control and qubit $b$ is the target, we can notate it as $\\text{CNOT}_{(a, b)}$.\n",
    "A NOT (Pauli-X) gate is applied if and only if the control is $\\ket{1}$.\n",
    "Thus, without using metrices, we can derive the following: \n",
    "$$\n",
    "\\begin{align*}\n",
    "    \\text{CNOT}_{(1, 2)} \\ket{00} &= \\ket{00} \\text{, } \\\\\n",
    "    \\text{CNOT}_{(1, 2)} \\ket{01} &= \\ket{01} \\text{, } \\\\\n",
    "    \\text{CNOT}_{(1, 2)} \\ket{10} &= \\ket{11} \\text{, and } \\\\\n",
    "    \\text{CNOT}_{(1, 2)} \\ket{11} &= \\ket{10} \\text{.}\n",
    "\\end{align*}\n",
    "$$\n",
    "And the matrix form of a CNOT gate is:\n",
    "$$\n",
    "\\begin{align*}\n",
    "    \\text{CNOT}_{(1, 2)} = \n",
    "    \\begin{bmatrix}\n",
    "        1 & 0 & 0 & 0 \\\\\n",
    "        0 & 1 & 0 & 0 \\\\\n",
    "        0 & 0 & 0 & 1 \\\\\n",
    "        0 & 0 & 1 & 0\n",
    "    \\end{bmatrix} \\text{.}\n",
    "\\end{align*}\n",
    "$$\n",
    "We can create an if-statement equivalent in quantum computers using this gate."
   ]
  },
  {
   "cell_type": "code",
   "execution_count": null,
   "metadata": {},
   "outputs": [],
   "source": [
    "qc = QuantumCircuit(2)\n",
    "qc.cx(0, 1)\n",
    "qc.draw('mpl')"
   ]
  },
  {
   "cell_type": "markdown",
   "metadata": {},
   "source": [
    "### Swap Gate\n",
    "\n",
    "A SWAP gate swaps the quantum states of two different qubits instantly, such that $\\text{SWAP} (\\ket{\\psi_1} \\otimes \\ket{\\psi_2}) = \\ket{\\psi_2} \\otimes \\ket{\\psi_1}$.\n",
    "We can easily compose a swap gate by using three CNOT gates."
   ]
  },
  {
   "cell_type": "code",
   "execution_count": null,
   "metadata": {},
   "outputs": [],
   "source": [
    "qc = QuantumCircuit(2)\n",
    "qc.cx(0, 1)\n",
    "qc.cx(1, 0)\n",
    "qc.cx(0, 1)\n",
    "qc.draw('mpl')"
   ]
  },
  {
   "cell_type": "markdown",
   "metadata": {},
   "source": [
    "We can easily verify this works by direct manipulation.\n",
    "Let $\\ket{\\psi_1} = \\alpha\\ket{0} + \\beta\\ket{1}$ and $\\ket{\\psi_2} = \\gamma\\ket{0} + \\delta\\ket{1}$.\n",
    "Then we have the following:\n",
    "$$\n",
    "\\begin{align*}\n",
    "    \\text{SWAP} (\\ket{\\psi_1} \\otimes \\ket{\\psi_2}) &= \\text{CNOT}_{(1, 2)}\\text{CNOT}_{(2, 1)}\\text{CNOT}_{(1, 2)} (\\ket{\\psi_1} \\otimes \\ket{\\psi_2}) \\\\\n",
    "    &= \\text{CNOT}_{(1, 2)}\\text{CNOT}_{(2, 1)}\\text{CNOT}_{(1, 2)} ((\\alpha\\ket{0} + \\beta\\ket{1}) \\otimes (\\gamma\\ket{0} + \\delta\\ket{1})) \\\\\n",
    "    &= \\text{CNOT}_{(1, 2)}\\text{CNOT}_{(2, 1)}\\text{CNOT}_{(1, 2)} (\\alpha\\gamma\\ket{00} + \\alpha\\delta\\ket{01} + \\beta\\gamma\\ket{10} + \\beta\\delta\\ket{11}) \\\\\n",
    "    &= \\text{CNOT}_{(1, 2)}\\text{CNOT}_{(2, 1)} (\\alpha\\gamma\\ket{00} + \\alpha\\delta\\ket{01} + \\beta\\gamma\\ket{11} + \\beta\\delta\\ket{10}) \\\\\n",
    "    &= \\text{CNOT}_{(1, 2)} (\\alpha\\gamma\\ket{00} + \\alpha\\delta\\ket{11} + \\beta\\gamma\\ket{01} + \\beta\\delta\\ket{10}) \\\\\n",
    "    &= \\alpha\\gamma\\ket{00} + \\alpha\\delta\\ket{10} + \\beta\\gamma\\ket{01} + \\beta\\delta\\ket{11} \\\\\n",
    "    &= (\\gamma\\ket{0} + \\delta\\ket{1}) \\otimes (\\alpha\\ket{0} \\otimes \\beta\\ket{1}) \\\\\n",
    "    &= \\ket{\\psi_2} \\otimes \\ket{\\psi_1} \\text{.}\n",
    "\\end{align*}\n",
    "$$\n",
    "This result is genuinely useful because when we have to work on two or more qubit systems and the real quantum computer does not support the current placement of the qubits, we can apply SWAP gates several times to change the qubit placement."
   ]
  },
  {
   "cell_type": "markdown",
   "metadata": {},
   "source": [
    "### Toffoli Gate\n",
    "\n",
    "A Toffoli gate accepts two controlled qubit and one target qubit.\n",
    "It applies a NOT gate to the target gate if and only if both controlled qubits are $\\ket{1}$.\n",
    "We can create an AND gate equivlaent in quantum computers using this gate."
   ]
  },
  {
   "cell_type": "code",
   "execution_count": null,
   "metadata": {},
   "outputs": [],
   "source": [
    "qc = QuantumCircuit(3)\n",
    "qc.ccx(0, 1, 2)\n",
    "qc.draw('mpl')"
   ]
  },
  {
   "cell_type": "markdown",
   "metadata": {},
   "source": [
    "### Other Controlled Gates\n",
    "\n",
    "In fact, we can generalize the matrix form of CNOT gates by: \n",
    "$$\n",
    "\\begin{align*}\n",
    "    \\text{CU}_{(1, 2)} = \n",
    "    \\begin{bmatrix}\n",
    "        1 & 0 & 0 & 0 \\\\\n",
    "        0 & 1 & 0 & 0 \\\\\n",
    "        0 & 0 & u_{11} & u_{12} \\\\\n",
    "        0 & 0 & u_{21} & u_{22}\n",
    "    \\end{bmatrix} \\text{, }\n",
    "\\end{align*}\n",
    "$$\n",
    "where the entries with $u$ stand for the matrix of any one-qubit quantum gates.\n",
    "Just like CNOT gates, we can compute the state applying these gates without any matrix.\n",
    "$$\n",
    "\\begin{align*}\n",
    "    \\text{CU}_{(1, 2)} \\ket{00} &= \\ket{0} \\otimes U\\ket{0} \\\\\n",
    "    \\text{CU}_{(1, 2)} \\ket{01} &= \\ket{0} \\otimes U\\ket{1} \\\\\n",
    "    \\text{CU}_{(1, 2)} \\ket{10} &= \\ket{1} \\otimes U\\ket{0} \\\\\n",
    "    \\text{CU}_{(1, 2)} \\ket{11} &= \\ket{1} \\otimes U\\ket{1} \\\\\n",
    "\\end{align*}\n",
    "$$"
   ]
  },
  {
   "cell_type": "markdown",
   "metadata": {},
   "source": [
    "## No-Cloning Theorem\n",
    "\n",
    "It turns out that ***we cannot copy quantum state of a qubit to another qubit using quantum gates***.\n",
    "The proof is the following.\n",
    "\n",
    "**Proof**: Suppose there were a quantum gate $U$ operates such that $U(\\ket{\\psi} \\otimes \\ket{0}) = \\ket{\\psi} \\otimes \\ket{\\psi}$ and let $\\ket{\\psi} = \\ket{00}+\\ket{01}$.\n",
    "By linearity, we obtain the following:\n",
    "$$\n",
    "\\begin{align*}\n",
    "    U\\ket{\\psi} &= U\\left(\\frac{1}{\\sqrt{2}}(\\ket{00}+\\ket{10})\\right) \\\\\n",
    "    &= \\frac{1}{\\sqrt{2}}(U\\ket{00}+U\\ket{10}) \\\\\n",
    "    &= \\frac{1}{\\sqrt{2}}(\\ket{00}+\\ket{11}) \\text{.}\n",
    "\\end{align*}\n",
    "$$\n",
    "Note that we can factor out entrailing $\\ket{0}$ in $\\ket{\\psi}$ such that:\n",
    "$$\n",
    "\\begin{align*}\n",
    "    \\ket{\\psi} &= \\frac{1}{\\sqrt{2}}(\\ket{00}+\\ket{10}) = \\frac{\\ket{0}+\\ket{1}}{\\sqrt{2}} \\otimes \\ket{0} \\text{.}\n",
    "\\end{align*}\n",
    "$$\n",
    "Now, applying $U$ gate gives us: \n",
    "$$\n",
    "\\begin{align*}\n",
    "    U\\ket{\\psi} &= U \\left(\\frac{\\ket{0}+\\ket{1}}{\\sqrt{2}} \\otimes \\ket{0}\\right) \\\\\n",
    "    &= \\frac{\\ket{0}+\\ket{1}}{\\sqrt{2}} \\otimes \\frac{\\ket{0}+\\ket{1}}{\\sqrt{2}} \\\\\n",
    "    &= \\frac{1}{2} (\\ket{00} + \\ket{01} + \\ket{10} + \\ket{11}) \\text{.}\n",
    "\\end{align*}\n",
    "$$\n",
    "Since we obtained the fact that $\\frac{1}{\\sqrt{2}}(\\ket{00}+\\ket{11}) \\neq \\frac{1}{2} (\\ket{00} + \\ket{01} + \\ket{10} + \\ket{11})$, this contradicts our previous assumption, and thus there is no such $U$.\n",
    "\n",
    "This is calld **no-cloning theorem**, which states that a unitary copy gate cannot exist (quantum computers cannot do quantum copy).\n",
    "It feels ironic that quantum computers cannot handle a simple operation like copying, which classical computers can do without any problem.\n",
    "On the other hand, we can entangle the qubits instead.\n",
    "When qubits are entangled, once a quantum gate changes the quantum state of one qubit, the other qubit's state is changes according to the quantum gate that was applied to the first qubit, instantly (even faster than the speed of light!)."
   ]
  },
  {
   "cell_type": "markdown",
   "metadata": {},
   "source": [
    "## Entanglement\n",
    "\n",
    "A **product state** is a quantum state that can be rewritten as a tensor product of two quantum states.\n",
    "For instance, a quantum state $\\ket{\\psi} = \\frac{1}{2}(\\ket{00} + \\ket{01} + \\ket{10} + \\ket{11})$ is a product state because we can rewrite this as $\\ket{\\psi} = \\frac{1}{\\sqrt{2}}(\\ket{0} + \\ket{1}) \\otimes \\frac{1}{\\sqrt{2}}(\\ket{0} + \\ket{1})$.\n",
    "\n",
    "Meanwhile, an **entangled** state is a quantum state that is not a product state.\n",
    "For instance, a quantum state $\\ket{\\psi} = \\frac{1}{\\sqrt{2}}(\\ket{00} + \\ket{11})$ is entangled.\n",
    "Notice, since we cannot 'separate' this quantum state into two different quantum states, even if we 'apply' a quantum gate to one of these entangled qubits, the quantum gate is applied to the other entangled qubit as well.\n",
    "As mentioned above, we can apply manipulate entangled qubits instantly even though those two qubits are light-years apart (*\"Spooky action at a distance.\"*).\n",
    "We can easily entangle qubits by using Hadamard and CNOT gates."
   ]
  },
  {
   "cell_type": "markdown",
   "metadata": {},
   "source": [
    "### Bell State\n",
    "\n",
    "A Bell state is a type of entangled quantum state. \n",
    "We can easily create one by applying $\\text{CNOT}_{(1, 2)} (H \\otimes I)$.\n",
    "$$\n",
    "\\begin{align*}\n",
    "    \\text{CNOT}_{(1, 2)} (H \\otimes I) \\ket{00} &= \\text{CNOT}_{(1, 2)} \\left(\\frac{1}{\\sqrt{2}}\\ket{00} + \\frac{1}{\\sqrt{2}}\\ket{10}\\right) \\\\\n",
    "    &= \\frac{1}{\\sqrt{2}}\\ket{00} + \\frac{1}{\\sqrt{2}}\\ket{11} \\\\\n",
    "    &= \\frac{1}{\\sqrt{2}}(\\ket{00} + \\ket{11})\n",
    "\\end{align*}\n",
    "$$"
   ]
  },
  {
   "cell_type": "code",
   "execution_count": null,
   "metadata": {},
   "outputs": [],
   "source": [
    "qc = QuantumCircuit(2)\n",
    "qc.h(0)\n",
    "qc.cx(0, 1)\n",
    "qc.draw('mpl')"
   ]
  },
  {
   "cell_type": "markdown",
   "metadata": {},
   "source": [
    "### GHZ State\n",
    "\n",
    "This is basically three-qubit version of a Bell state.\n",
    "We can easily create one by applying $\\text{CNOT}_{(2, 3)} \\text{CNOT}_{(1, 2)} (H \\otimes I \\otimes I)$.\n",
    "$$\n",
    "\\begin{align*}\n",
    "    \\text{CNOT}_{(2, 3)} \\text{CNOT}_{(1, 2)} (H \\otimes I \\otimes I) \\ket{000} &= \\text{CNOT}_{(2, 3)} \\text{CNOT}_{(1, 2)} \\left(\\frac{1}{\\sqrt{2}}\\ket{000} + \\frac{1}{\\sqrt{2}}(\\ket{100})\\right) \\\\\n",
    "    &= \\text{CNOT}_{(2, 3)} \\left(\\frac{1}{\\sqrt{2}}\\ket{000} + \\frac{1}{\\sqrt{2}}(\\ket{110})\\right) \\\\\n",
    "    &= \\frac{1}{\\sqrt{2}}\\ket{000} + \\frac{1}{\\sqrt{2}}(\\ket{111}) \\\\\n",
    "    &= \\frac{1}{\\sqrt{2}} (\\ket{000} + \\ket{111})\n",
    "\\end{align*}\n",
    "$$\n",
    "We can entangle even more qubits in this manner."
   ]
  },
  {
   "cell_type": "code",
   "execution_count": null,
   "metadata": {},
   "outputs": [],
   "source": [
    "qc = QuantumCircuit(3)\n",
    "qc.h(0)\n",
    "qc.cx(0, 1)\n",
    "qc.cx(1, 2)\n",
    "qc.draw('mpl')"
   ]
  },
  {
   "cell_type": "markdown",
   "metadata": {},
   "source": [
    "### Entanglement Demonstration\n",
    "\n",
    "Let us entangle ten qubits and see what happens."
   ]
  },
  {
   "cell_type": "code",
   "execution_count": null,
   "metadata": {},
   "outputs": [],
   "source": [
    "# Importing packages for this demonstration.\n",
    "\n",
    "from qiskit_ibm_runtime import QiskitRuntimeService\n",
    "from qiskit_ibm_runtime import SamplerV2 as Sampler\n",
    "from qiskit.transpiler.preset_passmanagers import generate_preset_pass_manager\n",
    "\n",
    "# Setting up the backgrounds.\n",
    "\n",
    "token = ''\n",
    "shots = 100_000\n",
    "\n",
    "service = QiskitRuntimeService(channel='ibm_quantum', token=token)\n",
    "backend = service.least_busy(simulator=False, operational=True)\n",
    "\n",
    "# Setting up the quantum circuit.\n",
    "\n",
    "qc = QuantumCircuit(10)\n",
    "qc.h(0)\n",
    "for i in range(10-1):\n",
    "    qc.cx(i, i+1)\n",
    "qc.measure_all()\n",
    "qc.draw('mpl')\n"
   ]
  },
  {
   "cell_type": "code",
   "execution_count": null,
   "metadata": {},
   "outputs": [],
   "source": [
    "# Transpiling the circuit.\n",
    "\n",
    "pm = generate_preset_pass_manager(optimization_level=0, backend=backend)\n",
    "trans_qc = pm.run(qc)\n",
    "\n",
    "# Sending a job.\n",
    "\n",
    "sampler = Sampler(mode=backend)\n",
    "job = sampler.run([trans_qc], shots=shots)\n"
   ]
  },
  {
   "cell_type": "code",
   "execution_count": null,
   "metadata": {},
   "outputs": [],
   "source": [
    "# Showing the result.\n",
    "\n",
    "result = job.result()\n",
    "bit_str_dict = result[0].data.meas.get_counts()\n",
    "\n",
    "for bit_str in bit_str_dict:\n",
    "    print(f\"{bit_str}: {bit_str_dict[bit_str]}\")"
   ]
  },
  {
   "cell_type": "markdown",
   "metadata": {},
   "source": [
    "## References\n",
    "\n",
    "* A Practical guide to Quantum Machine Learning and Quantum Optimization.\n",
    "* Quantum Machine Learning and Optimization in Finance."
   ]
  }
 ],
 "metadata": {
  "kernelspec": {
   "display_name": "venv",
   "language": "python",
   "name": "python3"
  },
  "language_info": {
   "codemirror_mode": {
    "name": "ipython",
    "version": 3
   },
   "file_extension": ".py",
   "mimetype": "text/x-python",
   "name": "python",
   "nbconvert_exporter": "python",
   "pygments_lexer": "ipython3",
   "version": "3.12.6"
  }
 },
 "nbformat": 4,
 "nbformat_minor": 2
}
