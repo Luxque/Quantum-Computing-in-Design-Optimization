{
 "cells": [
  {
   "cell_type": "markdown",
   "metadata": {},
   "source": [
    "# Multi Qubit Systems\n",
    "\n"
   ]
  },
  {
   "cell_type": "code",
   "execution_count": 1,
   "metadata": {},
   "outputs": [],
   "source": [
    "from qiskit import QuantumCircuit"
   ]
  },
  {
   "cell_type": "markdown",
   "metadata": {},
   "source": [
    "## Qubits on Stack\n",
    "\n",
    "We have seen that $\\ket{0} = \\begin{bmatrix} 1 \\\\ 0 \\end{bmatrix}$ and $\\ket{1} = \\begin{bmatrix} 0 \\\\ 1 \\end{bmatrix}$.\n",
    "What happens if we expend this idea to multiple qubits?\n",
    "We can describe multi qubit systems using tensor products ($\\otimes$).\n",
    "$$\n",
    "\\begin{align*}\n",
    "    \\begin{bmatrix} a_1 \\\\ a_2 \\\\ \\vdots \\\\ a_n \\end{bmatrix} \\otimes \\begin{bmatrix} b_1 \\\\ b_2 \\\\ \\vdots \\\\ b_m \\end{bmatrix} &= \\begin{bmatrix} a_1 \\begin{bmatrix} b_1 \\\\ b_2 \\\\ \\vdots \\\\ b_m \\end{bmatrix} \\\\ a_2 \\begin{bmatrix} b_1 \\\\ b_2 \\\\ \\vdots \\\\ b_m \\end{bmatrix} \\\\ \\vdots \\\\ a_n \\begin{bmatrix} b_1 \\\\ b_2 \\\\ \\vdots \\\\ b_m \\end{bmatrix} \\end{bmatrix} = \\begin{bmatrix} a_1b_1 \\\\ a_1b_2 \\\\ \\vdots \\\\ a_1b_m \\\\ a_2b_1 \\\\ a_2b_2 \\\\ \\vdots \\\\ a_2b_m \\\\ \\vdots \\\\ a_nb_1 \\\\ a_nb_2 \\\\ \\vdots \\\\ a_nb_m \\end{bmatrix}\n",
    "\\end{align*}\n",
    "$$"
   ]
  },
  {
   "cell_type": "code",
   "execution_count": 2,
   "metadata": {},
   "outputs": [
    {
     "data": {
      "image/png": "[encoded data removed]",
      "text/plain": [
       "<Figure size 161.878x200.667 with 1 Axes>"
      ]
     },
     "execution_count": 2,
     "metadata": {},
     "output_type": "execute_result"
    }
   ],
   "source": [
    "qc = QuantumCircuit(2)\n",
    "qc.draw('mpl')"
   ]
  },
  {
   "cell_type": "markdown",
   "metadata": {},
   "source": [
    "As you can see above, we cann see that we are using two qubits on this quantum circuit.\n",
    "By using tensor product, we can describe the state of multiple qubits at once.\n",
    "$$\n",
    "\\begin{align*}\n",
    "    \\ket{0} \\otimes \\ket{0} &= \\begin{bmatrix} 1 \\\\ 0 \\end{bmatrix} \\otimes \\begin{bmatrix} 1 \\\\ 0 \\end{bmatrix} = \\begin{bmatrix} 1 \\begin{bmatrix} 1 \\\\ 0 \\end{bmatrix} \\\\ 0 \\begin{bmatrix} 1 \\\\ 0 \\end{bmatrix} \\end{bmatrix} = \\begin{bmatrix} 1 \\\\ 0 \\\\ 0 \\\\ 0 \\end{bmatrix} = \\ket{00} \\\\\n",
    "    \\ket{0} \\otimes \\ket{1} &= \\begin{bmatrix} 1 \\\\ 0 \\end{bmatrix} \\otimes \\begin{bmatrix} 0 \\\\ 1 \\end{bmatrix} = \\begin{bmatrix} 1 \\begin{bmatrix} 0 \\\\ 1 \\end{bmatrix} \\\\ 0 \\begin{bmatrix} 0 \\\\ 1 \\end{bmatrix} \\end{bmatrix} = \\begin{bmatrix} 0 \\\\ 1 \\\\ 0 \\\\ 0 \\end{bmatrix} = \\ket{01} \\\\\n",
    "    \\ket{1} \\otimes \\ket{0} &= \\begin{bmatrix} 0 \\\\ 1 \\end{bmatrix} \\otimes \\begin{bmatrix} 1 \\\\ 0 \\end{bmatrix} = \\begin{bmatrix} 0 \\begin{bmatrix} 1 \\\\ 0 \\end{bmatrix} \\\\ 1 \\begin{bmatrix} 1 \\\\ 0 \\end{bmatrix} \\end{bmatrix} = \\begin{bmatrix} 0 \\\\ 0 \\\\ 1 \\\\ 0 \\end{bmatrix} = \\ket{10} \\\\\n",
    "    \\ket{1} \\otimes \\ket{1} &= \\begin{bmatrix} 0 \\\\ 1 \\end{bmatrix} \\otimes \\begin{bmatrix} 0 \\\\ 1 \\end{bmatrix} = \\begin{bmatrix} 0 \\begin{bmatrix} 0 \\\\ 1 \\end{bmatrix} \\\\ 1 \\begin{bmatrix} 0 \\\\ 1 \\end{bmatrix} \\end{bmatrix} = \\begin{bmatrix} 0 \\\\ 0 \\\\ 0 \\\\ 1 \\end{bmatrix} = \\ket{11}\n",
    "\\end{align*}\n",
    "$$\n",
    "How about a three qubit system?\n",
    "$$\n",
    "\\begin{align*}\n",
    "    \\ket{00} \\otimes \\ket{0} &= \\ket{000} \\\\\n",
    "    \\ket{00} \\otimes \\ket{1} &= \\ket{001} \\\\\n",
    "    \\ket{01} \\otimes \\ket{0} &= \\ket{010} \\\\\n",
    "    \\ket{01} \\otimes \\ket{1} &= \\ket{011} \\\\\n",
    "    \\ket{10} \\otimes \\ket{0} &= \\ket{100} \\\\\n",
    "    \\ket{10} \\otimes \\ket{1} &= \\ket{101} \\\\\n",
    "    \\ket{11} \\otimes \\ket{0} &= \\ket{110} \\\\\n",
    "    \\ket{11} \\otimes \\ket{1} &= \\ket{111}\n",
    "\\end{align*}\n",
    "$$\n",
    "We can observe two important patterns here:\n",
    "* We can always append a new qubit using tensor product, and\n",
    "* If you want to know how $\\ket{n}$ in a matrix form, the $n+1$-th entry is $1$, and the other entries are $0$.\n",
    "It should naturally follow that quantum gates on the multiple qubit system should use tensor products."
   ]
  },
  {
   "cell_type": "markdown",
   "metadata": {},
   "source": [
    "## Gates on Stack\n",
    "\n",
    "Tensor products on metrices work very similarly.\n",
    "$$\n",
    "\\begin{align*}\n",
    "    \\begin{bmatrix} a_{11} & a_{12} \\\\ a_{21} & a_{22} \\end{bmatrix} \\otimes \\begin{bmatrix} b_{11} & b_{12} \\\\ b_{21} & b_{22} \\end{bmatrix} &= \\begin{bmatrix} a_{11} \\begin{bmatrix} b_{11} & b_{12} \\\\ b_{21} & b_{22} \\end{bmatrix} & a_{12} \\begin{bmatrix} b_{11} & b_{12} \\\\ b_{21} & b_{22} \\end{bmatrix} \\\\ a_{21} \\begin{bmatrix} b_{11} & b_{12} \\\\ b_{21} & b_{22} \\end{bmatrix} & a_{22} \\begin{bmatrix} b_{11} & b_{12} \\\\ b_{21} & b_{22} \\end{bmatrix} \\end{bmatrix} = \n",
    "    \\begin{bmatrix} \n",
    "        a_{11}b_{11} & a_{11}b_{12} & a_{12}b_{11} & a_{12}b_{12} \\\\ \n",
    "        a_{11}b_{21} & a_{11}b_{22} & a_{12}b_{21} & a_{12}b_{22} \\\\\n",
    "        a_{21}b_{11} & a_{21}b_{12} & a_{22}b_{11} & a_{22}b_{12} \\\\\n",
    "        a_{21}b_{21} & a_{21}b_{22} & a_{22}b_{21} & a_{22}b_{22}\n",
    "    \\end{bmatrix}\n",
    "\\end{align*}\n",
    "$$\n",
    "Note that a new created by a tensor product of two unitary metrices is also unitary, so $(U_1 \\otimes U_2)^{-1} = U_1^\\dagger \\otimes U_2^\\dagger$ and $(U_1 \\otimes U_2)^\\dagger = U_1^\\dagger \\otimes U_2^\\dagger$ hold."
   ]
  },
  {
   "cell_type": "code",
   "execution_count": 3,
   "metadata": {},
   "outputs": [
    {
     "data": {
      "image/png": "[encoded data removed]",
      "text/plain": [
       "<Figure size 287.294x200.667 with 1 Axes>"
      ]
     },
     "execution_count": 3,
     "metadata": {},
     "output_type": "execute_result"
    }
   ],
   "source": [
    "qc = QuantumCircuit(2)\n",
    "\n",
    "qc.x(0)\n",
    "qc.x(1)\n",
    "qc.h(0)\n",
    "\n",
    "qc.draw('mpl')"
   ]
  },
  {
   "cell_type": "markdown",
   "metadata": {},
   "source": [
    "Now, let us find the matrix form of the circiut above.\n",
    "$$\n",
    "\\begin{align*}\n",
    "    X \\otimes X &= \\begin{bmatrix} 0 & 1 \\\\ 1 & 0 \\end{bmatrix} \\otimes \\begin{bmatrix} 0 & 1 \\\\ 1 & 0 \\end{bmatrix} \\\\\n",
    "    &= \n",
    "    \\begin{bmatrix} \n",
    "        0 & 0 & 0 & 1 \\\\\n",
    "        0 & 0 & 1 & 0 \\\\\n",
    "        0 & 1 & 0 & 0 \\\\\n",
    "        1 & 0 & 0 & 0\n",
    "    \\end{bmatrix} \\\\\n",
    "    H \\otimes I &= \\frac{1}{\\sqrt{2}} \\begin{bmatrix} 1 & 1 \\\\ 1 & -1 \\end{bmatrix} \\otimes \\begin{bmatrix} 1 & 0 \\\\ 0 & 1 \\end{bmatrix} \\\\\n",
    "    &= \\frac{1}{\\sqrt{2}}\n",
    "    \\begin{bmatrix}\n",
    "        1 & 0 & 1 & 0 \\\\\n",
    "        0 & 1 & 0 & 1 \\\\\n",
    "        1 & 0 & -1 & 0 \\\\\n",
    "        0 & 1 & 0 & -1\n",
    "    \\end{bmatrix} \\\\\n",
    "    (H \\otimes I)(X \\otimes X) &= \\frac{1}{\\sqrt{2}} \\begin{bmatrix} 1 & 0 & 1 & 0 \\\\ 0 & 1 & 0 & 1 \\\\ 1 & 0 & -1 & 0 \\\\ 0 & 1 & 0 & -1 \\end{bmatrix} \\begin{bmatrix} 0 & 0 & 0 & 1 \\\\ 0 & 0 & 1 & 0 \\\\ 0 & 1 & 0 & 0 \\\\  1 & 0 & 0 & 0 \\end{bmatrix} \\\\\n",
    "    &= \\frac{1}{\\sqrt{2}}\n",
    "    \\begin{bmatrix}\n",
    "        0 & 1 & 0 & 1 \\\\\n",
    "        1 & 0 & 1 & 0 \\\\\n",
    "        0 & -1 & 0 & 1 \\\\\n",
    "        -1 & 0 & 1 & 0\n",
    "    \\end{bmatrix}\n",
    "\\end{align*}\n",
    "$$"
   ]
  },
  {
   "cell_type": "markdown",
   "metadata": {},
   "source": [
    "### CNOT Gate\n",
    "\n",
    "A CNOT gate has two parts: control and target. \n",
    "A NOT (Pauli-X) gate is applied if and only if the control is $\\ket{1}$.\n",
    "Thus, without using metrices, we can derive the following: \n",
    "$$\n",
    "\\begin{align*}\n",
    "    \\text{CNOT} \\ket{00} &= \\ket{00} \\\\\n",
    "    \\text{CNOT} \\ket{01} &= \\ket{01} \\\\\n",
    "    \\text{CNOT} \\ket{10} &= \\ket{11} \\\\\n",
    "    \\text{CNOT} \\ket{11} &= \\ket{10}\n",
    "\\end{align*}\n",
    "$$\n",
    "And the matrix form of a CNOT gate looks:\n",
    "$$\n",
    "\\begin{align*}\n",
    "    \\text{CNOT} = \n",
    "    \\begin{bmatrix}\n",
    "        1 & 0 & 0 & 0 \\\\\n",
    "        0 & 1 & 0 & 0 \\\\\n",
    "        0 & 0 & 0 & 1 \\\\\n",
    "        0 & 0 & 1 & 0\n",
    "    \\end{bmatrix} \\text{.}\n",
    "\\end{align*}\n",
    "$$"
   ]
  },
  {
   "cell_type": "code",
   "execution_count": 4,
   "metadata": {},
   "outputs": [
    {
     "data": {
      "image/png": "[encoded data removed]",
      "text/plain": [
       "<Figure size 203.683x200.667 with 1 Axes>"
      ]
     },
     "execution_count": 4,
     "metadata": {},
     "output_type": "execute_result"
    }
   ],
   "source": [
    "qc = QuantumCircuit(2)\n",
    "qc.cx(0, 1)\n",
    "qc.draw('mpl')"
   ]
  },
  {
   "cell_type": "markdown",
   "metadata": {},
   "source": [
    "### Swap Gate\n",
    "\n",
    "A swap gate swaps the quantum states of two different qubits instantly, such that $\\text{SWAP} (\\ket{\\psi_1} \\otimes \\ket{\\psi_2}) = \\ket{\\psi_2} \\otimes \\ket{\\psi_1}$.\n",
    "We can easily compose a swap gate by using three CNOT gates."
   ]
  },
  {
   "cell_type": "code",
   "execution_count": 5,
   "metadata": {},
   "outputs": [
    {
     "data": {
      "image/png": "[encoded data removed]",
      "text/plain": [
       "<Figure size 370.906x200.667 with 1 Axes>"
      ]
     },
     "execution_count": 5,
     "metadata": {},
     "output_type": "execute_result"
    }
   ],
   "source": [
    "qc = QuantumCircuit(2)\n",
    "\n",
    "qc.cx(0, 1)\n",
    "qc.cx(1, 0)\n",
    "qc.cx(0, 1)\n",
    "\n",
    "qc.draw('mpl')"
   ]
  },
  {
   "cell_type": "markdown",
   "metadata": {},
   "source": [
    "## Other Controlled Gates\n",
    "\n",
    "In fact, we can generalize the matrix form of CNOT gates by: \n",
    "$$\n",
    "\\begin{align*}\n",
    "    \\text{CU} = \n",
    "    \\begin{bmatrix}\n",
    "        1 & 0 & 0 & 0 \\\\\n",
    "        0 & 1 & 0 & 0 \\\\\n",
    "        0 & 0 & u_11 & u_21 \\\\\n",
    "        0 & 0 & u_12 & u_22\n",
    "    \\end{bmatrix} \\text{, }\n",
    "\\end{align*}\n",
    "$$\n",
    "where the entries with $u$ stand for the matrix of any one-qubit quantum gates."
   ]
  },
  {
   "cell_type": "markdown",
   "metadata": {},
   "source": [
    "## No-Cloning Theorem\n",
    "\n",
    "It turns out that ***we cannot copy quantum state of a qubit to another qubit using quantum gates***.\n",
    "It is called no-cloning theorem the proof is the following.\n",
    "\n",
    "**Proof**: Suppose there were a quantum gate $U$ operates such that $U(\\ket{\\psi} \\otimes \\ket{0}) = \\ket{\\psi} \\otimes \\ket{\\psi}$ and let $\\ket{\\psi} = \\ket{00}+\\ket{01}$.\n",
    "By linearity, we obtain the following:\n",
    "$$\n",
    "\\begin{align*}\n",
    "    U\\ket{\\psi} &= U\\left(\\frac{1}{\\sqrt{2}}(\\ket{00}+\\ket{10})\\right) \\\\\n",
    "    &= \\frac{1}{\\sqrt{2}}(U\\ket{00}+U\\ket{10}) \\\\\n",
    "    &= \\frac{1}{\\sqrt{2}}(\\ket{00}+\\ket{11}) \\text{.}\n",
    "\\end{align*}\n",
    "$$\n",
    "Note that we can factor out entrailing $\\ket{0}$ in $\\ket{\\psi}$ such that:\n",
    "$$\n",
    "\\begin{align*}\n",
    "    \\ket{\\psi} &= \\frac{1}{\\sqrt{2}}(\\ket{00}+\\ket{10}) = \\left(\\frac{\\ket{0}+\\ket{1}}{\\sqrt{2}}\\right) \\otimes \\ket{0} \\text{.}\n",
    "\\end{align*}\n",
    "$$\n",
    "Now, applying $U$ gate gives us: \n",
    "$$\n",
    "\\begin{align*}\n",
    "    U \\left(\\left(\\frac{\\ket{0}+\\ket{1}}{\\sqrt{2}}\\right) \\otimes \\ket{0}\\right) &= U \\left(\\left(\\frac{\\ket{0}+\\ket{1}}{\\sqrt{2}}\\right) \\otimes \\ket{0}\\right) \\\\\n",
    "    &= \\frac{\\ket{0}+\\ket{1}}{\\sqrt{2}} \\otimes \\frac{\\ket{0}+\\ket{1}}{\\sqrt{2}} \\\\\n",
    "    &= \\frac{1}{2} (\\ket{00} + \\ket{01} + \\ket{10} + \\ket{11}) \\text{.}\n",
    "\\end{align*}\n",
    "$$\n",
    "Since we obtained the fact that $\\frac{1}{\\sqrt{2}}(\\ket{00}+\\ket{11}) \\neq \\frac{1}{2} (\\ket{00} + \\ket{01} + \\ket{10} + \\ket{11})$, this contradicts our previous assumption, and thus there is no such $U$.\n",
    "\n",
    "This is calld **no-cloning theorem**, which states that a unitary copy gate cannot exist (quantum computers cannot do quantum copy).\n",
    "It feels ironic that quantum computers cannot handle a simple operation like copying, which classical computers can do without any problem.\n",
    "On the other hand, we can entangle the qubits instead.\n",
    "When qubits are entangled, once a quantum gate changes the quantum state of one qubit, the other qubit's state is changes according to the quantum gate that was applied to the first qubit, instantly (even faster than the speed of light!)."
   ]
  },
  {
   "cell_type": "markdown",
   "metadata": {},
   "source": [
    "## References\n",
    "\n",
    "* A Practical guide to Quantum Machine Learning and Quantum Optimization.\n",
    "* Quantum Machine Learning and Optimization in Finance."
   ]
  }
 ],
 "metadata": {
  "kernelspec": {
   "display_name": "venv",
   "language": "python",
   "name": "python3"
  },
  "language_info": {
   "codemirror_mode": {
    "name": "ipython",
    "version": 3
   },
   "file_extension": ".py",
   "mimetype": "text/x-python",
   "name": "python",
   "nbconvert_exporter": "python",
   "pygments_lexer": "ipython3",
   "version": "3.12.6"
  }
 },
 "nbformat": 4,
 "nbformat_minor": 2
}
