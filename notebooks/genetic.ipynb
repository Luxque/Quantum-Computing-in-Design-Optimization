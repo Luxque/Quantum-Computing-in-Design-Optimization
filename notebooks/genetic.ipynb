{
 "cells": [
  {
   "cell_type": "markdown",
   "id": "2a130977",
   "metadata": {},
   "source": [
    "# Quantum Genetic Algorithm"
   ]
  }
 ],
 "metadata": {
  "language_info": {
   "name": "python"
  }
 },
 "nbformat": 4,
 "nbformat_minor": 5
}
