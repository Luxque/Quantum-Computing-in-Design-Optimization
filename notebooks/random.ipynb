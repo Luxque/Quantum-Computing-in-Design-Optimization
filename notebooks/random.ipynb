{
 "cells": [
  {
   "cell_type": "markdown",
   "metadata": {},
   "source": [
    "# Quantum Random Number Generator\n",
    "\n",
    "(Introduction)"
   ]
  },
  {
   "cell_type": "code",
   "execution_count": null,
   "metadata": {},
   "outputs": [],
   "source": [
    "!pip install qiskit[visualization] qiskit_ibm_runtime"
   ]
  },
  {
   "cell_type": "code",
   "execution_count": null,
   "metadata": {},
   "outputs": [],
   "source": [
    "token = '0916421f21835196ee7e2067d2913b102a414d5a46c7073f1d6b2356f7562eca30f533f77b06579d503cbe258a0cb34a93ce853543d66cb2ff78d4a78892b3ca'\n",
    "length = 20"
   ]
  },
  {
   "cell_type": "code",
   "execution_count": null,
   "metadata": {},
   "outputs": [],
   "source": [
    "from qiskit_ibm_runtime import QiskitRuntimeService\n",
    "\n",
    "service = QiskitRuntimeService(channel='ibm_quantum', token=token)\n",
    "backend = service.least_busy(simulator=False, operational=True)\n",
    "# backend = service.backend('ibm_rensselaer')\n",
    "\n",
    "backend_name = backend.name\n",
    "num_qubits = backend.num_qubits\n",
    "\n",
    "print(f\"Chosen Backend: {backend_name}\")\n",
    "print(f\"Number of Qubits: {num_qubits}\")"
   ]
  },
  {
   "cell_type": "code",
   "execution_count": null,
   "metadata": {},
   "outputs": [],
   "source": [
    "from qiskit import QuantumCircuit\n",
    "\n",
    "qc = QuantumCircuit(5)\n",
    "for i in range(5):\n",
    "    qc.h(i)\n",
    "qc.measure_all()\n",
    "\n",
    "# qc.draw('mpl')"
   ]
  },
  {
   "cell_type": "code",
   "execution_count": null,
   "metadata": {},
   "outputs": [],
   "source": [
    "from qiskit.transpiler.preset_passmanagers import generate_preset_pass_manager\n",
    "\n",
    "pm = generate_preset_pass_manager(optimization_level=0, backend=backend)\n",
    "trans_qc = pm.run(qc)\n",
    "\n",
    "# trans_qc.draw('mpl', idle_wires=False)"
   ]
  },
  {
   "cell_type": "code",
   "execution_count": null,
   "metadata": {},
   "outputs": [],
   "source": [
    "from qiskit_ibm_runtime import SamplerV2 as Sampler\n",
    "\n",
    "sampler = Sampler(mode=backend)\n",
    "job = sampler.run([trans_qc], shots=1000)"
   ]
  },
  {
   "cell_type": "code",
   "execution_count": null,
   "metadata": {},
   "outputs": [],
   "source": [
    "result = job.result()\n",
    "bit_str_dict = result[0].data.meas.get_counts()\n",
    "\n",
    "# for i, bit_str in enumerate(bit_str_dict.keys()):\n",
    "#     print(f\"{i}: {int(bit_str, 2) % 10}\")\n",
    "\n",
    "print(bit_str_dict)"
   ]
  }
 ],
 "metadata": {
  "kernelspec": {
   "display_name": "venv",
   "language": "python",
   "name": "python3"
  },
  "language_info": {
   "codemirror_mode": {
    "name": "ipython",
    "version": 3
   },
   "file_extension": ".py",
   "mimetype": "text/x-python",
   "name": "python",
   "nbconvert_exporter": "python",
   "pygments_lexer": "ipython3",
   "version": "3.12.6"
  }
 },
 "nbformat": 4,
 "nbformat_minor": 2
}
